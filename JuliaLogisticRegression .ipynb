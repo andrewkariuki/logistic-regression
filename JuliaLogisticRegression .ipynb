{
 "cells": [
  {
   "cell_type": "code",
   "execution_count": 31,
   "id": "1569feb0",
   "metadata": {},
   "outputs": [],
   "source": [
    "#Import Packages\n",
    "using Pkg\n",
    "using DataFrames\n",
    "using CSV\n",
    "using Plots\n",
    "using GLM\n",
    "using StatsBase\n",
    "using Lathe\n",
    "using MLBase\n",
    "using ClassImbalance\n",
    "using ROCAnalysis"
   ]
  },
  {
   "cell_type": "code",
   "execution_count": null,
   "id": "cbc0d498",
   "metadata": {},
   "outputs": [],
   "source": []
  },
  {
   "cell_type": "code",
   "execution_count": 27,
   "id": "f73b1097",
   "metadata": {},
   "outputs": [
    {
     "name": "stderr",
     "output_type": "stream",
     "text": [
      "┌ Warning: thread = 1 warning: parsed expected 12 columns, but didn't reach end of line around data row: 3350. Ignoring any extra columns on this row\n",
      "└ @ CSV C:\\Users\\user\\.julia\\packages\\CSV\\Zl2ww\\src\\file.jl:613\n",
      "┌ Warning: thread = 1 warning: parsed expected 12 columns, but didn't reach end of line around data row: 4704. Ignoring any extra columns on this row\n",
      "└ @ CSV C:\\Users\\user\\.julia\\packages\\CSV\\Zl2ww\\src\\file.jl:613\n",
      "┌ Warning: thread = 1 warning: parsed expected 12 columns, but didn't reach end of line around data row: 5879. Ignoring any extra columns on this row\n",
      "└ @ CSV C:\\Users\\user\\.julia\\packages\\CSV\\Zl2ww\\src\\file.jl:613\n",
      "┌ Warning: thread = 1 warning: parsed expected 12 columns, but didn't reach end of line around data row: 8981. Ignoring any extra columns on this row\n",
      "└ @ CSV C:\\Users\\user\\.julia\\packages\\CSV\\Zl2ww\\src\\file.jl:613\n"
     ]
    },
    {
     "data": {
      "text/html": [
       "<div class=\"data-frame\"><p>5 rows × 12 columns</p><table class=\"data-frame\"><thead><tr><th></th><th>bookID</th><th>title</th><th>authors</th><th>average_rating</th><th>isbn</th><th>isbn13</th><th>language_code</th><th>  num_pages</th><th>ratings_count</th><th>text_reviews_count</th><th>publication_date</th><th>publisher</th></tr><tr><th></th><th title=\"Int64\">Int64</th><th title=\"String\">String</th><th title=\"String\">String</th><th title=\"String\">String</th><th title=\"String\">String</th><th title=\"String\">String</th><th title=\"String\">String</th><th title=\"String\">String</th><th title=\"Int64\">Int64</th><th title=\"Int64\">Int64</th><th title=\"String\">String</th><th title=\"String\">String</th></tr></thead><tbody><tr><th>1</th><td>1</td><td>Harry Potter and the Half-Blood Prince (Harry Potter  #6)</td><td>J.K. Rowling/Mary GrandPré</td><td>4.57</td><td>0439785960</td><td>9780439785969</td><td>eng</td><td>652</td><td>2095690</td><td>27591</td><td>9/16/2006</td><td>Scholastic Inc.</td></tr><tr><th>2</th><td>2</td><td>Harry Potter and the Order of the Phoenix (Harry Potter  #5)</td><td>J.K. Rowling/Mary GrandPré</td><td>4.49</td><td>0439358078</td><td>9780439358071</td><td>eng</td><td>870</td><td>2153167</td><td>29221</td><td>9/1/2004</td><td>Scholastic Inc.</td></tr><tr><th>3</th><td>4</td><td>Harry Potter and the Chamber of Secrets (Harry Potter  #2)</td><td>J.K. Rowling</td><td>4.42</td><td>0439554896</td><td>9780439554893</td><td>eng</td><td>352</td><td>6333</td><td>244</td><td>11/1/2003</td><td>Scholastic</td></tr><tr><th>4</th><td>5</td><td>Harry Potter and the Prisoner of Azkaban (Harry Potter  #3)</td><td>J.K. Rowling/Mary GrandPré</td><td>4.56</td><td>043965548X</td><td>9780439655484</td><td>eng</td><td>435</td><td>2339585</td><td>36325</td><td>5/1/2004</td><td>Scholastic Inc.</td></tr><tr><th>5</th><td>8</td><td>Harry Potter Boxed Set  Books 1-5 (Harry Potter  #1-5)</td><td>J.K. Rowling/Mary GrandPré</td><td>4.78</td><td>0439682584</td><td>9780439682589</td><td>eng</td><td>2690</td><td>41428</td><td>164</td><td>9/13/2004</td><td>Scholastic</td></tr></tbody></table></div>"
      ],
      "text/latex": [
       "\\begin{tabular}{r|cccccccccccc}\n",
       "\t& bookID & title & authors & average\\_rating & isbn & isbn13 & language\\_code &   num\\_pages & ratings\\_count & text\\_reviews\\_count & publication\\_date & publisher\\\\\n",
       "\t\\hline\n",
       "\t& Int64 & String & String & String & String & String & String & String & Int64 & Int64 & String & String\\\\\n",
       "\t\\hline\n",
       "\t1 & 1 & Harry Potter and the Half-Blood Prince (Harry Potter  \\#6) & J.K. Rowling/Mary GrandPré & 4.57 & 0439785960 & 9780439785969 & eng & 652 & 2095690 & 27591 & 9/16/2006 & Scholastic Inc. \\\\\n",
       "\t2 & 2 & Harry Potter and the Order of the Phoenix (Harry Potter  \\#5) & J.K. Rowling/Mary GrandPré & 4.49 & 0439358078 & 9780439358071 & eng & 870 & 2153167 & 29221 & 9/1/2004 & Scholastic Inc. \\\\\n",
       "\t3 & 4 & Harry Potter and the Chamber of Secrets (Harry Potter  \\#2) & J.K. Rowling & 4.42 & 0439554896 & 9780439554893 & eng & 352 & 6333 & 244 & 11/1/2003 & Scholastic \\\\\n",
       "\t4 & 5 & Harry Potter and the Prisoner of Azkaban (Harry Potter  \\#3) & J.K. Rowling/Mary GrandPré & 4.56 & 043965548X & 9780439655484 & eng & 435 & 2339585 & 36325 & 5/1/2004 & Scholastic Inc. \\\\\n",
       "\t5 & 8 & Harry Potter Boxed Set  Books 1-5 (Harry Potter  \\#1-5) & J.K. Rowling/Mary GrandPré & 4.78 & 0439682584 & 9780439682589 & eng & 2690 & 41428 & 164 & 9/13/2004 & Scholastic \\\\\n",
       "\\end{tabular}\n"
      ],
      "text/plain": [
       "\u001b[1m5×12 DataFrame\u001b[0m\n",
       "\u001b[1m Row \u001b[0m│\u001b[1m bookID \u001b[0m\u001b[1m title                             \u001b[0m\u001b[1m authors                    \u001b[0m\u001b[1m average_rating \u001b[0m\u001b[1m isbn       \u001b[0m\u001b[1m isbn13        \u001b[0m\u001b[1m language_code \u001b[0m\u001b[1m   num_pages \u001b[0m\u001b[1m ratings_count \u001b[0m\u001b[1m text_reviews_count \u001b[0m\u001b[1m publication_date \u001b[0m\u001b[1m publisher       \u001b[0m\n",
       "\u001b[1m     \u001b[0m│\u001b[90m Int64  \u001b[0m\u001b[90m String                            \u001b[0m\u001b[90m String                     \u001b[0m\u001b[90m String         \u001b[0m\u001b[90m String     \u001b[0m\u001b[90m String        \u001b[0m\u001b[90m String        \u001b[0m\u001b[90m String      \u001b[0m\u001b[90m Int64         \u001b[0m\u001b[90m Int64              \u001b[0m\u001b[90m String           \u001b[0m\u001b[90m String          \u001b[0m\n",
       "─────┼────────────────────────────────────────────────────────────────────────────────────────────────────────────────────────────────────────────────────────────────────────────────────────────────────────────────────\n",
       "   1 │      1  Harry Potter and the Half-Blood …  J.K. Rowling/Mary GrandPré  4.57            0439785960  9780439785969  eng            652                2095690               27591  9/16/2006         Scholastic Inc.\n",
       "   2 │      2  Harry Potter and the Order of th…  J.K. Rowling/Mary GrandPré  4.49            0439358078  9780439358071  eng            870                2153167               29221  9/1/2004          Scholastic Inc.\n",
       "   3 │      4  Harry Potter and the Chamber of …  J.K. Rowling                4.42            0439554896  9780439554893  eng            352                   6333                 244  11/1/2003         Scholastic\n",
       "   4 │      5  Harry Potter and the Prisoner of…  J.K. Rowling/Mary GrandPré  4.56            043965548X  9780439655484  eng            435                2339585               36325  5/1/2004          Scholastic Inc.\n",
       "   5 │      8  Harry Potter Boxed Set  Books 1-…  J.K. Rowling/Mary GrandPré  4.78            0439682584  9780439682589  eng            2690                 41428                 164  9/13/2004         Scholastic"
      ]
     },
     "execution_count": 27,
     "metadata": {},
     "output_type": "execute_result"
    }
   ],
   "source": [
    "# Read the file using CSV.File and convert it to DataFrame\n",
    "df = DataFrame(CSV.File(\"books.csv\"))\n",
    "first(df,5)"
   ]
  },
  {
   "cell_type": "code",
   "execution_count": 32,
   "id": "5d23e3f4",
   "metadata": {},
   "outputs": [
    {
     "name": "stdout",
     "output_type": "stream",
     "text": [
      "(11127, 12)\n"
     ]
    }
   ],
   "source": [
    "# Summary of dataframe\n",
    "println(size(df))"
   ]
  },
  {
   "cell_type": "code",
   "execution_count": 23,
   "id": "5523c104",
   "metadata": {},
   "outputs": [
    {
     "data": {
      "text/html": [
       "<div class=\"data-frame\"><p>12 rows × 7 columns</p><table class=\"data-frame\"><thead><tr><th></th><th>variable</th><th>mean</th><th>min</th><th>median</th><th>max</th><th>nmissing</th><th>eltype</th></tr><tr><th></th><th title=\"Symbol\">Symbol</th><th title=\"Union{Nothing, Float64}\">Union…</th><th title=\"Any\">Any</th><th title=\"Union{Nothing, Float64}\">Union…</th><th title=\"Any\">Any</th><th title=\"Int64\">Int64</th><th title=\"DataType\">DataType</th></tr></thead><tbody><tr><th>1</th><td>bookID</td><td>21310.9</td><td>1</td><td>20287.0</td><td>45641</td><td>0</td><td>Int64</td></tr><tr><th>2</th><td>title</td><td></td><td>  said the shotgun to the head.</td><td></td><td>魔戒首部曲：魔戒現身</td><td>0</td><td>String</td></tr><tr><th>3</th><td>authors</td><td></td><td>A.B. Yehoshua/Hillel Halkin</td><td></td><td>Éric-Emmanuel Schmitt</td><td>0</td><td>String</td></tr><tr><th>4</th><td>average_rating</td><td></td><td> Jr./Sam B. Warner</td><td></td><td>5.00</td><td>0</td><td>String</td></tr><tr><th>5</th><td>isbn</td><td></td><td>0.00</td><td></td><td>9998691567</td><td>0</td><td>String</td></tr><tr><th>6</th><td>isbn13</td><td></td><td>0008987059752</td><td></td><td>9790007672386</td><td>0</td><td>String</td></tr><tr><th>7</th><td>language_code</td><td></td><td>9780674842113</td><td></td><td>zho</td><td>0</td><td>String</td></tr><tr><th>8</th><td>  num_pages</td><td></td><td>0</td><td></td><td>eng</td><td>0</td><td>String</td></tr><tr><th>9</th><td>ratings_count</td><td>17936.5</td><td>0</td><td>745.0</td><td>4597666</td><td>0</td><td>Int64</td></tr><tr><th>10</th><td>text_reviews_count</td><td>541.864</td><td>0</td><td>47.0</td><td>94265</td><td>0</td><td>Int64</td></tr><tr><th>11</th><td>publication_date</td><td></td><td>0</td><td></td><td>9/9/2010</td><td>0</td><td>String</td></tr><tr><th>12</th><td>publisher</td><td></td><td>1/15/1999</td><td></td><td>集英社</td><td>0</td><td>String</td></tr></tbody></table></div>"
      ],
      "text/latex": [
       "\\begin{tabular}{r|ccccccc}\n",
       "\t& variable & mean & min & median & max & nmissing & eltype\\\\\n",
       "\t\\hline\n",
       "\t& Symbol & Union… & Any & Union… & Any & Int64 & DataType\\\\\n",
       "\t\\hline\n",
       "\t1 & bookID & 21310.9 & 1 & 20287.0 & 45641 & 0 & Int64 \\\\\n",
       "\t2 & title &  &   said the shotgun to the head. &  & 魔戒首部曲：魔戒現身 & 0 & String \\\\\n",
       "\t3 & authors &  & A.B. Yehoshua/Hillel Halkin &  & Éric-Emmanuel Schmitt & 0 & String \\\\\n",
       "\t4 & average\\_rating &  &  Jr./Sam B. Warner &  & 5.00 & 0 & String \\\\\n",
       "\t5 & isbn &  & 0.00 &  & 9998691567 & 0 & String \\\\\n",
       "\t6 & isbn13 &  & 0008987059752 &  & 9790007672386 & 0 & String \\\\\n",
       "\t7 & language\\_code &  & 9780674842113 &  & zho & 0 & String \\\\\n",
       "\t8 &   num\\_pages &  & 0 &  & eng & 0 & String \\\\\n",
       "\t9 & ratings\\_count & 17936.5 & 0 & 745.0 & 4597666 & 0 & Int64 \\\\\n",
       "\t10 & text\\_reviews\\_count & 541.864 & 0 & 47.0 & 94265 & 0 & Int64 \\\\\n",
       "\t11 & publication\\_date &  & 0 &  & 9/9/2010 & 0 & String \\\\\n",
       "\t12 & publisher &  & 1/15/1999 &  & 集英社 & 0 & String \\\\\n",
       "\\end{tabular}\n"
      ],
      "text/plain": [
       "\u001b[1m12×7 DataFrame\u001b[0m\n",
       "\u001b[1m Row \u001b[0m│\u001b[1m variable           \u001b[0m\u001b[1m mean    \u001b[0m\u001b[1m min                             \u001b[0m\u001b[1m median  \u001b[0m\u001b[1m max                   \u001b[0m\u001b[1m nmissing \u001b[0m\u001b[1m eltype   \u001b[0m\n",
       "\u001b[1m     \u001b[0m│\u001b[90m Symbol             \u001b[0m\u001b[90m Union…  \u001b[0m\u001b[90m Any                             \u001b[0m\u001b[90m Union…  \u001b[0m\u001b[90m Any                   \u001b[0m\u001b[90m Int64    \u001b[0m\u001b[90m DataType \u001b[0m\n",
       "─────┼──────────────────────────────────────────────────────────────────────────────────────────────────────────────────\n",
       "   1 │ bookID              21310.9  1                                20287.0  45641                         0  Int64\n",
       "   2 │ title              \u001b[90m         \u001b[0m   said the shotgun to the head. \u001b[90m         \u001b[0m 魔戒首部曲：魔戒現身          0  String\n",
       "   3 │ authors            \u001b[90m         \u001b[0m A.B. Yehoshua/Hillel Halkin     \u001b[90m         \u001b[0m Éric-Emmanuel Schmitt         0  String\n",
       "   4 │ average_rating     \u001b[90m         \u001b[0m  Jr./Sam B. Warner              \u001b[90m         \u001b[0m 5.00                          0  String\n",
       "   5 │ isbn               \u001b[90m         \u001b[0m 0.00                            \u001b[90m         \u001b[0m 9998691567                    0  String\n",
       "   6 │ isbn13             \u001b[90m         \u001b[0m 0008987059752                   \u001b[90m         \u001b[0m 9790007672386                 0  String\n",
       "   7 │ language_code      \u001b[90m         \u001b[0m 9780674842113                   \u001b[90m         \u001b[0m zho                           0  String\n",
       "   8 │   num_pages        \u001b[90m         \u001b[0m 0                               \u001b[90m         \u001b[0m eng                           0  String\n",
       "   9 │ ratings_count       17936.5  0                                745.0    4597666                       0  Int64\n",
       "  10 │ text_reviews_count  541.864  0                                47.0     94265                         0  Int64\n",
       "  11 │ publication_date   \u001b[90m         \u001b[0m 0                               \u001b[90m         \u001b[0m 9/9/2010                      0  String\n",
       "  12 │ publisher          \u001b[90m         \u001b[0m 1/15/1999                       \u001b[90m         \u001b[0m 集英社                        0  String"
      ]
     },
     "execution_count": 23,
     "metadata": {},
     "output_type": "execute_result"
    }
   ],
   "source": [
    "describe(df)\n",
    "#> (10000, 14)"
   ]
  },
  {
   "cell_type": "code",
   "execution_count": 33,
   "id": "df50de59",
   "metadata": {},
   "outputs": [
    {
     "data": {
      "text/plain": [
       "12-element Vector{String}:\n",
       " \"bookID\"\n",
       " \"title\"\n",
       " \"authors\"\n",
       " \"average_rating\"\n",
       " \"isbn\"\n",
       " \"isbn13\"\n",
       " \"language_code\"\n",
       " \"  num_pages\"\n",
       " \"ratings_count\"\n",
       " \"text_reviews_count\"\n",
       " \"publication_date\"\n",
       " \"publisher\""
      ]
     },
     "execution_count": 33,
     "metadata": {},
     "output_type": "execute_result"
    }
   ],
   "source": [
    "names(df)"
   ]
  },
  {
   "cell_type": "code",
   "execution_count": 34,
   "id": "8fa6cb8d",
   "metadata": {},
   "outputs": [
    {
     "ename": "LoadError",
     "evalue": "ArgumentError: column name :Exited not found in the data frame",
     "output_type": "error",
     "traceback": [
      "ArgumentError: column name :Exited not found in the data frame",
      "",
      "Stacktrace:",
      " [1] lookupname",
      "   @ C:\\Users\\user\\.julia\\packages\\DataFrames\\pVFzb\\src\\other\\index.jl:288 [inlined]",
      " [2] getindex",
      "   @ C:\\Users\\user\\.julia\\packages\\DataFrames\\pVFzb\\src\\other\\index.jl:297 [inlined]",
      " [3] getindex(df::DataFrame, #unused#::typeof(!), col_ind::Symbol)",
      "   @ DataFrames C:\\Users\\user\\.julia\\packages\\DataFrames\\pVFzb\\src\\dataframe\\dataframe.jl:513",
      " [4] getproperty(df::DataFrame, col_ind::Symbol)",
      "   @ DataFrames C:\\Users\\user\\.julia\\packages\\DataFrames\\pVFzb\\src\\abstractdataframe\\abstractdataframe.jl:356",
      " [5] top-level scope",
      "   @ In[34]:1",
      " [6] eval",
      "   @ .\\boot.jl:360 [inlined]",
      " [7] include_string(mapexpr::typeof(REPL.softscope), mod::Module, code::String, filename::String)",
      "   @ Base .\\loading.jl:1116"
     ]
    }
   ],
   "source": [
    "countmap(df.Exited)"
   ]
  },
  {
   "cell_type": "code",
   "execution_count": 35,
   "id": "dda39f09",
   "metadata": {},
   "outputs": [
    {
     "ename": "LoadError",
     "evalue": "UndefVarError: OneHotEncode not defined",
     "output_type": "error",
     "traceback": [
      "UndefVarError: OneHotEncode not defined",
      "",
      "Stacktrace:",
      " [1] getproperty(x::Module, f::Symbol)",
      "   @ Base .\\Base.jl:26",
      " [2] top-level scope",
      "   @ In[35]:1",
      " [3] eval",
      "   @ .\\boot.jl:360 [inlined]",
      " [4] include_string(mapexpr::typeof(REPL.softscope), mod::Module, code::String, filename::String)",
      "   @ Base .\\loading.jl:1116"
     ]
    }
   ],
   "source": [
    "Lathe.preprocess.OneHotEncode(df,:publisher)\n",
    "Lathe.preprocess.OneHotEncode(df,:publication_date)\n",
    "select!(df, Not([:RowNumber, :CustomerId,:Surname,:Geography,:Gender,:Male]))\n",
    "first(df,5)"
   ]
  },
  {
   "cell_type": "code",
   "execution_count": 36,
   "id": "fe407bf4",
   "metadata": {},
   "outputs": [],
   "source": [
    "using Lathe.preprocess: TrainTestSplit\n",
    "train, test = TrainTestSplit(df,.75);"
   ]
  },
  {
   "cell_type": "code",
   "execution_count": 37,
   "id": "c577462c",
   "metadata": {},
   "outputs": [
    {
     "ename": "LoadError",
     "evalue": "type NamedTuple has no field Exited",
     "output_type": "error",
     "traceback": [
      "type NamedTuple has no field Exited",
      "",
      "Stacktrace:",
      "  [1] #164",
      "    @ .\\none:0 [inlined]",
      "  [2] iterate(::Base.Generator{UnitRange{Int64}, Base.var\"#164#167\"{(:Exited, :CreditScore, :Age, :Tenure, :Balance, :NumOfProducts, :HasCrCard, :IsActiveMember, :EstimatedSalary, :Female, :France, :Spain), NamedTuple{(:bookID, :title, :authors, :average_rating, :isbn, :isbn13, :language_code, Symbol(\"  num_pages\"), :ratings_count, :text_reviews_count, :publication_date, :publisher), Tuple{Vector{Int64}, Vector{String}, Vector{String}, Vector{String}, Vector{String}, Vector{String}, PooledArrays.PooledVector{String, UInt32, Vector{UInt32}}, Vector{String}, Vector{Int64}, Vector{Int64}, Vector{String}, Vector{String}}}}})",
      "    @ Base .\\generator.jl:47",
      "  [3] (NamedTuple{(:Exited, :CreditScore, :Age, :Tenure, :Balance, :NumOfProducts, :HasCrCard, :IsActiveMember, :EstimatedSalary, :Female, :France, :Spain), T} where T<:Tuple)(nt::NamedTuple{(:bookID, :title, :authors, :average_rating, :isbn, :isbn13, :language_code, Symbol(\"  num_pages\"), :ratings_count, :text_reviews_count, :publication_date, :publisher), Tuple{Vector{Int64}, Vector{String}, Vector{String}, Vector{String}, Vector{String}, Vector{String}, PooledArrays.PooledVector{String, UInt32, Vector{UInt32}}, Vector{String}, Vector{Int64}, Vector{Int64}, Vector{String}, Vector{String}}})",
      "    @ Base .\\namedtuple.jl:99",
      "  [4] missing_omit(data::NamedTuple{(:bookID, :title, :authors, :average_rating, :isbn, :isbn13, :language_code, Symbol(\"  num_pages\"), :ratings_count, :text_reviews_count, :publication_date, :publisher), Tuple{Vector{Int64}, Vector{String}, Vector{String}, Vector{String}, Vector{String}, Vector{String}, PooledArrays.PooledVector{String, UInt32, Vector{UInt32}}, Vector{String}, Vector{Int64}, Vector{Int64}, Vector{String}, Vector{String}}}, formula::FormulaTerm{Term, NTuple{11, Term}})",
      "    @ StatsModels C:\\Users\\user\\.julia\\packages\\StatsModels\\JZLpf\\src\\modelframe.jl:69",
      "  [5] ModelFrame(f::FormulaTerm{Term, NTuple{11, Term}}, data::NamedTuple{(:bookID, :title, :authors, :average_rating, :isbn, :isbn13, :language_code, Symbol(\"  num_pages\"), :ratings_count, :text_reviews_count, :publication_date, :publisher), Tuple{Vector{Int64}, Vector{String}, Vector{String}, Vector{String}, Vector{String}, Vector{String}, PooledArrays.PooledVector{String, UInt32, Vector{UInt32}}, Vector{String}, Vector{Int64}, Vector{Int64}, Vector{String}, Vector{String}}}; model::Type{GeneralizedLinearModel}, contrasts::Dict{Symbol, Any})",
      "    @ StatsModels C:\\Users\\user\\.julia\\packages\\StatsModels\\JZLpf\\src\\modelframe.jl:74",
      "  [6] fit(::Type{GeneralizedLinearModel}, ::FormulaTerm{Term, NTuple{11, Term}}, ::DataFrame, ::Binomial{Float64}, ::Vararg{Any, N} where N; contrasts::Dict{Symbol, Any}, kwargs::Base.Iterators.Pairs{Union{}, Union{}, Tuple{}, NamedTuple{(), Tuple{}}})",
      "    @ StatsModels C:\\Users\\user\\.julia\\packages\\StatsModels\\JZLpf\\src\\statsmodel.jl:85",
      "  [7] fit(::Type{GeneralizedLinearModel}, ::FormulaTerm{Term, NTuple{11, Term}}, ::DataFrame, ::Binomial{Float64}, ::ProbitLink)",
      "    @ StatsModels C:\\Users\\user\\.julia\\packages\\StatsModels\\JZLpf\\src\\statsmodel.jl:82",
      "  [8] glm(::FormulaTerm{Term, NTuple{11, Term}}, ::DataFrame, ::Binomial{Float64}, ::Vararg{Any, N} where N; kwargs::Base.Iterators.Pairs{Union{}, Union{}, Tuple{}, NamedTuple{(), Tuple{}}})",
      "    @ GLM C:\\Users\\user\\.julia\\packages\\GLM\\5CcRd\\src\\glmfit.jl:504",
      "  [9] glm(::FormulaTerm{Term, NTuple{11, Term}}, ::DataFrame, ::Binomial{Float64}, ::Vararg{Any, N} where N)",
      "    @ GLM C:\\Users\\user\\.julia\\packages\\GLM\\5CcRd\\src\\glmfit.jl:504",
      " [10] top-level scope",
      "    @ In[37]:2",
      " [11] eval",
      "    @ .\\boot.jl:360 [inlined]",
      " [12] include_string(mapexpr::typeof(REPL.softscope), mod::Module, code::String, filename::String)",
      "    @ Base .\\loading.jl:1116"
     ]
    }
   ],
   "source": [
    "fm = @formula(Exited ~ CreditScore + Age + Tenure + Balance + NumOfProducts + HasCrCard + IsActiveMember + EstimatedSalary + Female + France + Spain)\n",
    "logit = glm(fm, train, Binomial(), ProbitLink())"
   ]
  },
  {
   "cell_type": "code",
   "execution_count": 38,
   "id": "134ecadf",
   "metadata": {},
   "outputs": [
    {
     "ename": "LoadError",
     "evalue": "UndefVarError: logit not defined",
     "output_type": "error",
     "traceback": [
      "UndefVarError: logit not defined",
      "",
      "Stacktrace:",
      " [1] top-level scope",
      "   @ In[38]:1",
      " [2] eval",
      "   @ .\\boot.jl:360 [inlined]",
      " [3] include_string(mapexpr::typeof(REPL.softscope), mod::Module, code::String, filename::String)",
      "   @ Base .\\loading.jl:1116"
     ]
    }
   ],
   "source": [
    "prediction = predict(logit,test)"
   ]
  },
  {
   "cell_type": "code",
   "execution_count": 39,
   "id": "bbfd896e",
   "metadata": {},
   "outputs": [
    {
     "ename": "LoadError",
     "evalue": "UndefVarError: prediction not defined",
     "output_type": "error",
     "traceback": [
      "UndefVarError: prediction not defined",
      "",
      "Stacktrace:",
      " [1] top-level scope",
      "   @ In[39]:2",
      " [2] eval",
      "   @ .\\boot.jl:360 [inlined]",
      " [3] include_string(mapexpr::typeof(REPL.softscope), mod::Module, code::String, filename::String)",
      "   @ Base .\\loading.jl:1116"
     ]
    }
   ],
   "source": [
    "# Convert probability score to class\n",
    "prediction_class = [if x < 0.5 0 else 1 end for x in prediction];\n",
    "\n",
    "prediction_df = DataFrame(y_actual = test.Exited, y_predicted = prediction_class, prob_predicted = prediction);\n",
    "prediction_df.correctly_classified = prediction_df.y_actual .== prediction_df.y_predicted"
   ]
  },
  {
   "cell_type": "code",
   "execution_count": 40,
   "id": "5cae5173",
   "metadata": {},
   "outputs": [
    {
     "ename": "LoadError",
     "evalue": "UndefVarError: prediction_df not defined",
     "output_type": "error",
     "traceback": [
      "UndefVarError: prediction_df not defined",
      "",
      "Stacktrace:",
      " [1] top-level scope",
      "   @ In[40]:1",
      " [2] eval",
      "   @ .\\boot.jl:360 [inlined]",
      " [3] include_string(mapexpr::typeof(REPL.softscope), mod::Module, code::String, filename::String)",
      "   @ Base .\\loading.jl:1116"
     ]
    }
   ],
   "source": [
    "accuracy = mean(prediction_df.correctly_classified)"
   ]
  },
  {
   "cell_type": "code",
   "execution_count": 41,
   "id": "ef587064",
   "metadata": {},
   "outputs": [
    {
     "ename": "LoadError",
     "evalue": "UndefVarError: prediction_df not defined",
     "output_type": "error",
     "traceback": [
      "UndefVarError: prediction_df not defined",
      "",
      "Stacktrace:",
      " [1] top-level scope",
      "   @ In[41]:2",
      " [2] eval",
      "   @ .\\boot.jl:360 [inlined]",
      " [3] include_string(mapexpr::typeof(REPL.softscope), mod::Module, code::String, filename::String)",
      "   @ Base .\\loading.jl:1116"
     ]
    }
   ],
   "source": [
    "# confusion_matrix = confusmat(2,prediction_df.y_actual, prediction_df.y_predicted)\n",
    "confusion_matrix = MLBase.roc(prediction_df.y_actual, prediction_df.y_predicted)"
   ]
  },
  {
   "cell_type": "code",
   "execution_count": null,
   "id": "4cdfe7ff",
   "metadata": {},
   "outputs": [],
   "source": [
    "# Import sklearn.metrics to julia\n",
    "using PyCall\n",
    "sklearn = pyimport(\"sklearn.metrics\")"
   ]
  }
 ],
 "metadata": {
  "kernelspec": {
   "display_name": "Julia 1.6.2",
   "language": "julia",
   "name": "julia-1.6"
  },
  "language_info": {
   "file_extension": ".jl",
   "mimetype": "application/julia",
   "name": "julia",
   "version": "1.6.2"
  }
 },
 "nbformat": 4,
 "nbformat_minor": 5
}
