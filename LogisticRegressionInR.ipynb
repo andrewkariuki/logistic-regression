{
 "cells": [
  {
   "cell_type": "code",
   "execution_count": 6,
   "id": "77a6c63e",
   "metadata": {},
   "outputs": [],
   "source": [
    "library(randomForest)"
   ]
  },
  {
   "cell_type": "code",
   "execution_count": 7,
   "id": "99bf6ba0",
   "metadata": {},
   "outputs": [],
   "source": [
    "require(ISLR)"
   ]
  },
  {
   "cell_type": "code",
   "execution_count": 8,
   "id": "56a7aca7",
   "metadata": {},
   "outputs": [],
   "source": [
    "books <- read.csv(\n",
    "  \"books.csv\",header = TRUE, stringsAsFactors = FALSE\n",
    ")"
   ]
  },
  {
   "cell_type": "code",
   "execution_count": 9,
   "id": "574bfd86",
   "metadata": {},
   "outputs": [
    {
     "data": {
      "text/html": [
       "<style>\n",
       ".list-inline {list-style: none; margin:0; padding: 0}\n",
       ".list-inline>li {display: inline-block}\n",
       ".list-inline>li:not(:last-child)::after {content: \"\\00b7\"; padding: 0 .5ex}\n",
       "</style>\n",
       "<ol class=list-inline><li>'bookID'</li><li>'title'</li><li>'authors'</li><li>'average_rating'</li><li>'isbn'</li><li>'isbn13'</li><li>'language_code'</li><li>'num_pages'</li><li>'ratings_count'</li><li>'text_reviews_count'</li><li>'publication_date'</li><li>'publisher'</li></ol>\n"
      ],
      "text/latex": [
       "\\begin{enumerate*}\n",
       "\\item 'bookID'\n",
       "\\item 'title'\n",
       "\\item 'authors'\n",
       "\\item 'average\\_rating'\n",
       "\\item 'isbn'\n",
       "\\item 'isbn13'\n",
       "\\item 'language\\_code'\n",
       "\\item 'num\\_pages'\n",
       "\\item 'ratings\\_count'\n",
       "\\item 'text\\_reviews\\_count'\n",
       "\\item 'publication\\_date'\n",
       "\\item 'publisher'\n",
       "\\end{enumerate*}\n"
      ],
      "text/markdown": [
       "1. 'bookID'\n",
       "2. 'title'\n",
       "3. 'authors'\n",
       "4. 'average_rating'\n",
       "5. 'isbn'\n",
       "6. 'isbn13'\n",
       "7. 'language_code'\n",
       "8. 'num_pages'\n",
       "9. 'ratings_count'\n",
       "10. 'text_reviews_count'\n",
       "11. 'publication_date'\n",
       "12. 'publisher'\n",
       "\n",
       "\n"
      ],
      "text/plain": [
       " [1] \"bookID\"             \"title\"              \"authors\"           \n",
       " [4] \"average_rating\"     \"isbn\"               \"isbn13\"            \n",
       " [7] \"language_code\"      \"num_pages\"          \"ratings_count\"     \n",
       "[10] \"text_reviews_count\" \"publication_date\"   \"publisher\"         "
      ]
     },
     "metadata": {},
     "output_type": "display_data"
    }
   ],
   "source": [
    "names(books)"
   ]
  },
  {
   "cell_type": "code",
   "execution_count": 10,
   "id": "1bb899a0",
   "metadata": {},
   "outputs": [
    {
     "data": {
      "text/html": [
       "<table class=\"dataframe\">\n",
       "<caption>A data.frame: 6 × 12</caption>\n",
       "<thead>\n",
       "\t<tr><th></th><th scope=col>bookID</th><th scope=col>title</th><th scope=col>authors</th><th scope=col>average_rating</th><th scope=col>isbn</th><th scope=col>isbn13</th><th scope=col>language_code</th><th scope=col>num_pages</th><th scope=col>ratings_count</th><th scope=col>text_reviews_count</th><th scope=col>publication_date</th><th scope=col>publisher</th></tr>\n",
       "\t<tr><th></th><th scope=col>&lt;chr&gt;</th><th scope=col>&lt;chr&gt;</th><th scope=col>&lt;chr&gt;</th><th scope=col>&lt;chr&gt;</th><th scope=col>&lt;chr&gt;</th><th scope=col>&lt;chr&gt;</th><th scope=col>&lt;chr&gt;</th><th scope=col>&lt;chr&gt;</th><th scope=col>&lt;int&gt;</th><th scope=col>&lt;int&gt;</th><th scope=col>&lt;chr&gt;</th><th scope=col>&lt;chr&gt;</th></tr>\n",
       "</thead>\n",
       "<tbody>\n",
       "\t<tr><th scope=row>1</th><td>1</td><td>Harry Potter and the Half-Blood Prince (Harry Potter  #6)                            </td><td>J.K. Rowling/Mary GrandPrÃ©</td><td>4.57</td><td>0439785960</td><td>9780439785969</td><td>eng  </td><td>652 </td><td>2095690</td><td>27591</td><td>9/16/2006</td><td>Scholastic Inc.</td></tr>\n",
       "\t<tr><th scope=row>2</th><td>2</td><td>Harry Potter and the Order of the Phoenix (Harry Potter  #5)                         </td><td>J.K. Rowling/Mary GrandPrÃ©</td><td>4.49</td><td>0439358078</td><td>9780439358071</td><td>eng  </td><td>870 </td><td>2153167</td><td>29221</td><td>9/1/2004 </td><td>Scholastic Inc.</td></tr>\n",
       "\t<tr><th scope=row>3</th><td>4</td><td>Harry Potter and the Chamber of Secrets (Harry Potter  #2)                           </td><td>J.K. Rowling               </td><td>4.42</td><td>0439554896</td><td>9780439554893</td><td>eng  </td><td>352 </td><td>   6333</td><td>  244</td><td>11/1/2003</td><td>Scholastic     </td></tr>\n",
       "\t<tr><th scope=row>4</th><td>5</td><td>Harry Potter and the Prisoner of Azkaban (Harry Potter  #3)                          </td><td>J.K. Rowling/Mary GrandPrÃ©</td><td>4.56</td><td>043965548X</td><td>9780439655484</td><td>eng  </td><td>435 </td><td>2339585</td><td>36325</td><td>5/1/2004 </td><td>Scholastic Inc.</td></tr>\n",
       "\t<tr><th scope=row>5</th><td>8</td><td>Harry Potter Boxed Set  Books 1-5 (Harry Potter  #1-5)                               </td><td>J.K. Rowling/Mary GrandPrÃ©</td><td>4.78</td><td>0439682584</td><td>9780439682589</td><td>eng  </td><td>2690</td><td>  41428</td><td>  164</td><td>9/13/2004</td><td>Scholastic     </td></tr>\n",
       "\t<tr><th scope=row>6</th><td>9</td><td>Unauthorized Harry Potter Book Seven News: Half-Blood Prince Analysis and Speculation</td><td>W. Frederick Zimmerman     </td><td>3.74</td><td>0976540606</td><td>9780976540601</td><td>en-US</td><td>152 </td><td>     19</td><td>    1</td><td>4/26/2005</td><td>Nimble Books   </td></tr>\n",
       "</tbody>\n",
       "</table>\n"
      ],
      "text/latex": [
       "A data.frame: 6 × 12\n",
       "\\begin{tabular}{r|llllllllllll}\n",
       "  & bookID & title & authors & average\\_rating & isbn & isbn13 & language\\_code & num\\_pages & ratings\\_count & text\\_reviews\\_count & publication\\_date & publisher\\\\\n",
       "  & <chr> & <chr> & <chr> & <chr> & <chr> & <chr> & <chr> & <chr> & <int> & <int> & <chr> & <chr>\\\\\n",
       "\\hline\n",
       "\t1 & 1 & Harry Potter and the Half-Blood Prince (Harry Potter  \\#6)                             & J.K. Rowling/Mary GrandPrÃ© & 4.57 & 0439785960 & 9780439785969 & eng   & 652  & 2095690 & 27591 & 9/16/2006 & Scholastic Inc.\\\\\n",
       "\t2 & 2 & Harry Potter and the Order of the Phoenix (Harry Potter  \\#5)                          & J.K. Rowling/Mary GrandPrÃ© & 4.49 & 0439358078 & 9780439358071 & eng   & 870  & 2153167 & 29221 & 9/1/2004  & Scholastic Inc.\\\\\n",
       "\t3 & 4 & Harry Potter and the Chamber of Secrets (Harry Potter  \\#2)                            & J.K. Rowling                & 4.42 & 0439554896 & 9780439554893 & eng   & 352  &    6333 &   244 & 11/1/2003 & Scholastic     \\\\\n",
       "\t4 & 5 & Harry Potter and the Prisoner of Azkaban (Harry Potter  \\#3)                           & J.K. Rowling/Mary GrandPrÃ© & 4.56 & 043965548X & 9780439655484 & eng   & 435  & 2339585 & 36325 & 5/1/2004  & Scholastic Inc.\\\\\n",
       "\t5 & 8 & Harry Potter Boxed Set  Books 1-5 (Harry Potter  \\#1-5)                                & J.K. Rowling/Mary GrandPrÃ© & 4.78 & 0439682584 & 9780439682589 & eng   & 2690 &   41428 &   164 & 9/13/2004 & Scholastic     \\\\\n",
       "\t6 & 9 & Unauthorized Harry Potter Book Seven News: Half-Blood Prince Analysis and Speculation & W. Frederick Zimmerman      & 3.74 & 0976540606 & 9780976540601 & en-US & 152  &      19 &     1 & 4/26/2005 & Nimble Books   \\\\\n",
       "\\end{tabular}\n"
      ],
      "text/markdown": [
       "\n",
       "A data.frame: 6 × 12\n",
       "\n",
       "| <!--/--> | bookID &lt;chr&gt; | title &lt;chr&gt; | authors &lt;chr&gt; | average_rating &lt;chr&gt; | isbn &lt;chr&gt; | isbn13 &lt;chr&gt; | language_code &lt;chr&gt; | num_pages &lt;chr&gt; | ratings_count &lt;int&gt; | text_reviews_count &lt;int&gt; | publication_date &lt;chr&gt; | publisher &lt;chr&gt; |\n",
       "|---|---|---|---|---|---|---|---|---|---|---|---|---|\n",
       "| 1 | 1 | Harry Potter and the Half-Blood Prince (Harry Potter  #6)                             | J.K. Rowling/Mary GrandPrÃ© | 4.57 | 0439785960 | 9780439785969 | eng   | 652  | 2095690 | 27591 | 9/16/2006 | Scholastic Inc. |\n",
       "| 2 | 2 | Harry Potter and the Order of the Phoenix (Harry Potter  #5)                          | J.K. Rowling/Mary GrandPrÃ© | 4.49 | 0439358078 | 9780439358071 | eng   | 870  | 2153167 | 29221 | 9/1/2004  | Scholastic Inc. |\n",
       "| 3 | 4 | Harry Potter and the Chamber of Secrets (Harry Potter  #2)                            | J.K. Rowling                | 4.42 | 0439554896 | 9780439554893 | eng   | 352  |    6333 |   244 | 11/1/2003 | Scholastic      |\n",
       "| 4 | 5 | Harry Potter and the Prisoner of Azkaban (Harry Potter  #3)                           | J.K. Rowling/Mary GrandPrÃ© | 4.56 | 043965548X | 9780439655484 | eng   | 435  | 2339585 | 36325 | 5/1/2004  | Scholastic Inc. |\n",
       "| 5 | 8 | Harry Potter Boxed Set  Books 1-5 (Harry Potter  #1-5)                                | J.K. Rowling/Mary GrandPrÃ© | 4.78 | 0439682584 | 9780439682589 | eng   | 2690 |   41428 |   164 | 9/13/2004 | Scholastic      |\n",
       "| 6 | 9 | Unauthorized Harry Potter Book Seven News: Half-Blood Prince Analysis and Speculation | W. Frederick Zimmerman      | 3.74 | 0976540606 | 9780976540601 | en-US | 152  |      19 |     1 | 4/26/2005 | Nimble Books    |\n",
       "\n"
      ],
      "text/plain": [
       "  bookID\n",
       "1 1     \n",
       "2 2     \n",
       "3 4     \n",
       "4 5     \n",
       "5 8     \n",
       "6 9     \n",
       "  title                                                                                \n",
       "1 Harry Potter and the Half-Blood Prince (Harry Potter  #6)                            \n",
       "2 Harry Potter and the Order of the Phoenix (Harry Potter  #5)                         \n",
       "3 Harry Potter and the Chamber of Secrets (Harry Potter  #2)                           \n",
       "4 Harry Potter and the Prisoner of Azkaban (Harry Potter  #3)                          \n",
       "5 Harry Potter Boxed Set  Books 1-5 (Harry Potter  #1-5)                               \n",
       "6 Unauthorized Harry Potter Book Seven News: Half-Blood Prince Analysis and Speculation\n",
       "  authors                     average_rating isbn       isbn13       \n",
       "1 J.K. Rowling/Mary GrandPrÃ© 4.57           0439785960 9780439785969\n",
       "2 J.K. Rowling/Mary GrandPrÃ© 4.49           0439358078 9780439358071\n",
       "3 J.K. Rowling                4.42           0439554896 9780439554893\n",
       "4 J.K. Rowling/Mary GrandPrÃ© 4.56           043965548X 9780439655484\n",
       "5 J.K. Rowling/Mary GrandPrÃ© 4.78           0439682584 9780439682589\n",
       "6 W. Frederick Zimmerman      3.74           0976540606 9780976540601\n",
       "  language_code num_pages ratings_count text_reviews_count publication_date\n",
       "1 eng           652       2095690       27591              9/16/2006       \n",
       "2 eng           870       2153167       29221              9/1/2004        \n",
       "3 eng           352          6333         244              11/1/2003       \n",
       "4 eng           435       2339585       36325              5/1/2004        \n",
       "5 eng           2690        41428         164              9/13/2004       \n",
       "6 en-US         152            19           1              4/26/2005       \n",
       "  publisher      \n",
       "1 Scholastic Inc.\n",
       "2 Scholastic Inc.\n",
       "3 Scholastic     \n",
       "4 Scholastic Inc.\n",
       "5 Scholastic     \n",
       "6 Nimble Books   "
      ]
     },
     "metadata": {},
     "output_type": "display_data"
    }
   ],
   "source": [
    "head(books)"
   ]
  },
  {
   "cell_type": "code",
   "execution_count": 11,
   "id": "a93d24ce",
   "metadata": {},
   "outputs": [
    {
     "data": {
      "text/plain": [
       "    bookID             title             authors          average_rating    \n",
       " Length:11131       Length:11131       Length:11131       Length:11131      \n",
       " Class :character   Class :character   Class :character   Class :character  \n",
       " Mode  :character   Mode  :character   Mode  :character   Mode  :character  \n",
       "                                                                            \n",
       "                                                                            \n",
       "                                                                            \n",
       "                                                                            \n",
       "     isbn              isbn13          language_code       num_pages        \n",
       " Length:11131       Length:11131       Length:11131       Length:11131      \n",
       " Class :character   Class :character   Class :character   Class :character  \n",
       " Mode  :character   Mode  :character   Mode  :character   Mode  :character  \n",
       "                                                                            \n",
       "                                                                            \n",
       "                                                                            \n",
       "                                                                            \n",
       " ratings_count     text_reviews_count publication_date    publisher        \n",
       " Min.   :      0   Min.   :    0.0    Length:11131       Length:11131      \n",
       " 1st Qu.:    104   1st Qu.:    9.0    Class :character   Class :character  \n",
       " Median :    745   Median :   47.0    Mode  :character   Mode  :character  \n",
       " Mean   :  17936   Mean   :  541.9                                         \n",
       " 3rd Qu.:   4994   3rd Qu.:  237.5                                         \n",
       " Max.   :4597666   Max.   :94265.0                                         \n",
       " NA's   :4         NA's   :4                                               "
      ]
     },
     "metadata": {},
     "output_type": "display_data"
    }
   ],
   "source": [
    "summary(books)"
   ]
  },
  {
   "cell_type": "code",
   "execution_count": 12,
   "id": "42ada387",
   "metadata": {},
   "outputs": [
    {
     "ename": "ERROR",
     "evalue": "Error in hist.default(books[, i], main = names(books)[i]): 'x' must be numeric\n",
     "output_type": "error",
     "traceback": [
      "Error in hist.default(books[, i], main = names(books)[i]): 'x' must be numeric\nTraceback:\n",
      "1. hist(books[, i], main = names(books)[i])",
      "2. hist.default(books[, i], main = names(books)[i])",
      "3. stop(\"'x' must be numeric\")"
     ]
    }
   ],
   "source": [
    "par(mfrow=c(1,8))\n",
    "for(i in 1:8) {\n",
    "    hist(books[,i], main=names(books)[i])\n",
    "}"
   ]
  },
  {
   "cell_type": "code",
   "execution_count": 13,
   "id": "34b1f103",
   "metadata": {},
   "outputs": [
    {
     "ename": "ERROR",
     "evalue": "Error in x[floor(d)] + x[ceiling(d)]: non-numeric argument to binary operator\n",
     "output_type": "error",
     "traceback": [
      "Error in x[floor(d)] + x[ceiling(d)]: non-numeric argument to binary operator\nTraceback:\n",
      "1. boxplot(books[, i], main = names(books)[i])",
      "2. boxplot.default(books[, i], main = names(books)[i])",
      "3. boxplot.stats(unclass(groups[[i]]), range)",
      "4. stats::fivenum(x, na.rm = TRUE)"
     ]
    }
   ],
   "source": [
    "par(mfrow=c(1,8))\n",
    "for(i in 1:8) {\n",
    "    boxplot(books[,i], main=names(books)[i])\n",
    "}"
   ]
  },
  {
   "cell_type": "code",
   "execution_count": 14,
   "id": "39a95c71",
   "metadata": {},
   "outputs": [
    {
     "name": "stderr",
     "output_type": "stream",
     "text": [
      "Loading required package: Rcpp\n",
      "\n",
      "## \n",
      "## Amelia II: Multiple Imputation\n",
      "## (Version 1.8.0, built: 2021-05-26)\n",
      "## Copyright (C) 2005-2021 James Honaker, Gary King and Matthew Blackwell\n",
      "## Refer to http://gking.harvard.edu/amelia/ for more information\n",
      "## \n",
      "\n"
     ]
    }
   ],
   "source": [
    "library(Amelia)\n",
    "library(mlbench)"
   ]
  },
  {
   "cell_type": "code",
   "execution_count": 17,
   "id": "9236362d",
   "metadata": {},
   "outputs": [
    {
     "data": {
      "image/png": "[encoded data removed]",
      "text/plain": [
       "Plot with title \"Missingness Map\""
      ]
     },
     "metadata": {
      "image/png": {
       "height": 420,
       "width": 420
      }
     },
     "output_type": "display_data"
    }
   ],
   "source": [
    "missmap(books, col=c(\"blue\", \"red\"), legend=FALSE)"
   ]
  },
  {
   "cell_type": "code",
   "execution_count": 19,
   "id": "c12fc12b",
   "metadata": {},
   "outputs": [
    {
     "ename": "ERROR",
     "evalue": "Error in cor(books[, 1:8]): 'x' must be numeric\n",
     "output_type": "error",
     "traceback": [
      "Error in cor(books[, 1:8]): 'x' must be numeric\nTraceback:\n",
      "1. cor(books[, 1:8])",
      "2. stop(\"'x' must be numeric\")"
     ]
    }
   ],
   "source": [
    "library(corrplot)\n",
    "correlations <- cor(books[,1:8])\n",
    "corrplot(correlations, method=\"circle\")"
   ]
  },
  {
   "cell_type": "code",
   "execution_count": 22,
   "id": "28477ebd",
   "metadata": {},
   "outputs": [],
   "source": [
    "library(caret)"
   ]
  },
  {
   "cell_type": "code",
   "execution_count": 24,
   "id": "e485b46f",
   "metadata": {},
   "outputs": [
    {
     "data": {
      "text/plain": [
       "NULL"
      ]
     },
     "metadata": {},
     "output_type": "display_data"
    }
   ],
   "source": [
    "x <- books[,1:8]\n",
    "y <- books[,9]\n",
    "scales <- list(x=list(relation=\"free\"), y=list(relation=\"free\"))\n",
    "featurePlot(x=x, y=y, plot=\"density\", scales=scales)"
   ]
  },
  {
   "cell_type": "code",
   "execution_count": null,
   "id": "04b81408",
   "metadata": {},
   "outputs": [],
   "source": [
    "glm.fit <- glm(Direction ~ Lag1 + Lag2 + Lag3 + Lag4 + Lag5 + Volume, data = Smarket, family = binomial)"
   ]
  }
 ],
 "metadata": {
  "kernelspec": {
   "display_name": "R",
   "language": "R",
   "name": "ir"
  },
  "language_info": {
   "codemirror_mode": "r",
   "file_extension": ".r",
   "mimetype": "text/x-r-source",
   "name": "R",
   "pygments_lexer": "r",
   "version": "4.1.0"
  }
 },
 "nbformat": 4,
 "nbformat_minor": 5
}
