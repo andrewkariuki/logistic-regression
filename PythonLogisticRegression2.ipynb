{
 "cells": [
  {
   "cell_type": "code",
   "execution_count": 58,
   "metadata": {
    "id": "jRsS_kPezAN7"
   },
   "outputs": [],
   "source": [
    "import pandas as pd\n",
    "from sklearn.model_selection import train_test_split\n",
    "from sklearn.linear_model import LogisticRegression\n",
    "from sklearn import metrics\n",
    "import seaborn as sn\n",
    "import matplotlib.pyplot as plt\n",
    "import numpy as np"
   ]
  },
  {
   "cell_type": "code",
   "execution_count": 59,
   "metadata": {
    "colab": {
     "base_uri": "https://localhost:8080/"
    },
    "id": "tYEYqLp60vg2",
    "outputId": "d8d3759f-a028-4bb5-9900-bc50247adfb9"
   },
   "outputs": [
    {
     "name": "stdout",
     "output_type": "stream",
     "text": [
      "(11127, 13)\n"
     ]
    }
   ],
   "source": [
    "books = pd.read_csv(\"books.csv\", header=0, error_bad_lines=False)\n",
    "print(books.shape)"
   ]
  },
  {
   "cell_type": "code",
   "execution_count": 60,
   "metadata": {
    "colab": {
     "base_uri": "https://localhost:8080/"
    },
    "id": "nM1mlp8f3EC5",
    "outputId": "291f6b4c-2884-4d7a-b00b-bda49541feb7"
   },
   "outputs": [
    {
     "name": "stdout",
     "output_type": "stream",
     "text": [
      "   bookID  ... Unnamed: 12\n",
      "0       1  ...         NaN\n",
      "1       2  ...         NaN\n",
      "2       4  ...         NaN\n",
      "3       5  ...         NaN\n",
      "4       8  ...         NaN\n",
      "\n",
      "[5 rows x 13 columns]\n"
     ]
    }
   ],
   "source": [
    "print(books.head())"
   ]
  },
  {
   "cell_type": "code",
   "execution_count": 61,
   "metadata": {
    "colab": {
     "base_uri": "https://localhost:8080/"
    },
    "id": "FRevzQSJ07Yl",
    "outputId": "49ddfc1f-efb2-4c4f-f37b-327087b3d1cb"
   },
   "outputs": [
    {
     "name": "stdout",
     "output_type": "stream",
     "text": [
      "['bookID', 'title', 'authors', 'average_rating', 'isbn', 'isbn13', 'language_code', 'num_pages', 'ratings_count', 'text_reviews_count', 'publication_date', 'publisher', 'Unnamed: 12']\n"
     ]
    }
   ],
   "source": [
    "print(list(books.columns))"
   ]
  },
  {
   "cell_type": "code",
   "execution_count": 62,
   "metadata": {
    "id": "nsHd4IqI3x7O"
   },
   "outputs": [],
   "source": [
    "books = books[['average_rating','num_pages','ratings_count','text_reviews_count']]"
   ]
  },
  {
   "cell_type": "code",
   "execution_count": 63,
   "metadata": {
    "colab": {
     "base_uri": "https://localhost:8080/"
    },
    "id": "wh7dCbaG34rR",
    "outputId": "b515574f-a147-4cc4-f43f-79c815f0ac7c"
   },
   "outputs": [
    {
     "name": "stdout",
     "output_type": "stream",
     "text": [
      "      average_rating num_pages  ratings_count  text_reviews_count\n",
      "0               4.57       652        2095690               27591\n",
      "1               4.49       870        2153167               29221\n",
      "2               4.42       352           6333                 244\n",
      "3               4.56       435        2339585               36325\n",
      "4               4.78      2690          41428                 164\n",
      "...              ...       ...            ...                 ...\n",
      "11122           4.06       512            156                  20\n",
      "11123           4.08       635            783                  56\n",
      "11124           3.96       415            820                  95\n",
      "11125           3.72       434            769                 139\n",
      "11126           3.91       272            113                  12\n",
      "\n",
      "[11127 rows x 4 columns]\n"
     ]
    }
   ],
   "source": [
    "print(books)"
   ]
  },
  {
   "cell_type": "code",
   "execution_count": 64,
   "metadata": {
    "colab": {
     "base_uri": "https://localhost:8080/"
    },
    "id": "HZwKf74G5MZg",
    "outputId": "9c9a5f25-bb17-41d4-dfcb-c1db89a48a64"
   },
   "outputs": [
    {
     "data": {
      "text/plain": [
       "average_rating        object\n",
       "num_pages             object\n",
       "ratings_count          int64\n",
       "text_reviews_count     int64\n",
       "dtype: object"
      ]
     },
     "execution_count": 64,
     "metadata": {
      "tags": []
     },
     "output_type": "execute_result"
    }
   ],
   "source": [
    "books.dtypes"
   ]
  },
  {
   "cell_type": "code",
   "execution_count": 74,
   "metadata": {
    "colab": {
     "base_uri": "https://localhost:8080/",
     "height": 49
    },
    "id": "OYO-2g556UlN",
    "outputId": "8aca350e-17d8-4190-bcc3-b99c9661f170"
   },
   "outputs": [
    {
     "data": {
      "text/html": [
       "<div>\n",
       "<style scoped>\n",
       "    .dataframe tbody tr th:only-of-type {\n",
       "        vertical-align: middle;\n",
       "    }\n",
       "\n",
       "    .dataframe tbody tr th {\n",
       "        vertical-align: top;\n",
       "    }\n",
       "\n",
       "    .dataframe thead th {\n",
       "        text-align: right;\n",
       "    }\n",
       "</style>\n",
       "<table border=\"1\" class=\"dataframe\">\n",
       "  <thead>\n",
       "    <tr style=\"text-align: right;\">\n",
       "      <th></th>\n",
       "      <th>average_rating</th>\n",
       "      <th>num_pages</th>\n",
       "      <th>ratings_count</th>\n",
       "      <th>text_reviews_count</th>\n",
       "    </tr>\n",
       "  </thead>\n",
       "  <tbody>\n",
       "  </tbody>\n",
       "</table>\n",
       "</div>"
      ],
      "text/plain": [
       "Empty DataFrame\n",
       "Columns: [average_rating, num_pages, ratings_count, text_reviews_count]\n",
       "Index: []"
      ]
     },
     "execution_count": 74,
     "metadata": {
      "tags": []
     },
     "output_type": "execute_result"
    }
   ],
   "source": [
    "books[books['average_rating'].apply(lambda x: isinstance(x, (int, np.int64)))]"
   ]
  },
  {
   "cell_type": "code",
   "execution_count": 75,
   "metadata": {
    "colab": {
     "base_uri": "https://localhost:8080/"
    },
    "id": "zuDSZfbW5WSL",
    "outputId": "8c375528-7c8e-428d-b62e-bb2267b424aa"
   },
   "outputs": [
    {
     "data": {
      "text/plain": [
       "average_rating        object\n",
       "num_pages             object\n",
       "ratings_count          int64\n",
       "text_reviews_count     int64\n",
       "dtype: object"
      ]
     },
     "execution_count": 75,
     "metadata": {
      "tags": []
     },
     "output_type": "execute_result"
    }
   ],
   "source": [
    "books.dtypes"
   ]
  },
  {
   "cell_type": "code",
   "execution_count": 76,
   "metadata": {
    "id": "2wSjVnGl1A_F"
   },
   "outputs": [],
   "source": [
    "X = books[['ratings_count','text_reviews_count']]\n",
    "y = books['average_rating']"
   ]
  },
  {
   "cell_type": "code",
   "execution_count": 77,
   "metadata": {
    "colab": {
     "base_uri": "https://localhost:8080/"
    },
    "id": "xmyapGDZ2q3s",
    "outputId": "ff68ba88-1858-477b-f184-28deae1ddead"
   },
   "outputs": [
    {
     "name": "stdout",
     "output_type": "stream",
     "text": [
      "       ratings_count  text_reviews_count\n",
      "0            2095690               27591\n",
      "1            2153167               29221\n",
      "2               6333                 244\n",
      "3            2339585               36325\n",
      "4              41428                 164\n",
      "...              ...                 ...\n",
      "11122            156                  20\n",
      "11123            783                  56\n",
      "11124            820                  95\n",
      "11125            769                 139\n",
      "11126            113                  12\n",
      "\n",
      "[11127 rows x 2 columns]\n"
     ]
    }
   ],
   "source": [
    "print(X)"
   ]
  },
  {
   "cell_type": "code",
   "execution_count": 78,
   "metadata": {
    "colab": {
     "base_uri": "https://localhost:8080/"
    },
    "id": "MT9Lm7Tu26Vd",
    "outputId": "57921c7e-9c7d-46f6-8300-4b74c5a18878"
   },
   "outputs": [
    {
     "name": "stdout",
     "output_type": "stream",
     "text": [
      "0        4.57\n",
      "1        4.49\n",
      "2        4.42\n",
      "3        4.56\n",
      "4        4.78\n",
      "         ... \n",
      "11122    4.06\n",
      "11123    4.08\n",
      "11124    3.96\n",
      "11125    3.72\n",
      "11126    3.91\n",
      "Name: average_rating, Length: 11127, dtype: object\n"
     ]
    }
   ],
   "source": [
    "print(y)"
   ]
  },
  {
   "cell_type": "code",
   "execution_count": 79,
   "metadata": {
    "id": "UkExFHE51rC8"
   },
   "outputs": [],
   "source": [
    "X_train,X_test,y_train,y_test = train_test_split(X, y,test_size=0.25,random_state=0)"
   ]
  },
  {
   "cell_type": "code",
   "execution_count": 80,
   "metadata": {
    "colab": {
     "base_uri": "https://localhost:8080/"
    },
    "id": "xvCMEt8D2Pu5",
    "outputId": "621f7a53-9f03-4697-d817-b90b16b71906"
   },
   "outputs": [
    {
     "name": "stderr",
     "output_type": "stream",
     "text": [
      "/usr/local/lib/python3.7/dist-packages/sklearn/linear_model/_logistic.py:940: ConvergenceWarning: lbfgs failed to converge (status=1):\n",
      "STOP: TOTAL NO. of ITERATIONS REACHED LIMIT.\n",
      "\n",
      "Increase the number of iterations (max_iter) or scale the data as shown in:\n",
      "    https://scikit-learn.org/stable/modules/preprocessing.html\n",
      "Please also refer to the documentation for alternative solver options:\n",
      "    https://scikit-learn.org/stable/modules/linear_model.html#logistic-regression\n",
      "  extra_warning_msg=_LOGISTIC_SOLVER_CONVERGENCE_MSG)\n"
     ]
    }
   ],
   "source": [
    "logistic_regression= LogisticRegression()\n",
    "logistic_regression.fit(X_train,y_train)\n",
    "y_pred=logistic_regression.predict(X_test)"
   ]
  },
  {
   "cell_type": "code",
   "execution_count": 81,
   "metadata": {
    "colab": {
     "base_uri": "https://localhost:8080/",
     "height": 301
    },
    "id": "ZJ09kxmP4kqM",
    "outputId": "295f4d24-1095-4255-a9c1-ec6ff656737f"
   },
   "outputs": [
    {
     "data": {
      "text/plain": [
       "<matplotlib.axes._subplots.AxesSubplot at 0x7f89607c0390>"
      ]
     },
     "execution_count": 81,
     "metadata": {
      "tags": []
     },
     "output_type": "execute_result"
    },
    {
     "data": {
      "image/png": "[encoded data removed]",
      "text/plain": [
       "<Figure size 432x288 with 2 Axes>"
      ]
     },
     "metadata": {
      "needs_background": "light",
      "tags": []
     },
     "output_type": "display_data"
    }
   ],
   "source": [
    "confusion_matrix = pd.crosstab(y_test, y_pred, rownames=['Actual'], colnames=['Predicted'])\n",
    "sn.heatmap(confusion_matrix, annot=True)"
   ]
  },
  {
   "cell_type": "code",
   "execution_count": 82,
   "metadata": {
    "colab": {
     "base_uri": "https://localhost:8080/"
    },
    "id": "4PtL9WD24oZ6",
    "outputId": "c204a685-5970-4bf4-87f0-fa34ca512316"
   },
   "outputs": [
    {
     "name": "stdout",
     "output_type": "stream",
     "text": [
      "Accuracy:  0.008986340762041696\n"
     ]
    }
   ],
   "source": [
    "print('Accuracy: ',metrics.accuracy_score(y_test, y_pred))\n",
    "plt.show()"
   ]
  }
 ],
 "metadata": {
  "colab": {
   "name": "PythonLogisticRegression2.ipynb",
   "provenance": []
  },
  "kernelspec": {
   "display_name": "Python 3 (ipykernel)",
   "language": "python",
   "name": "python3"
  },
  "language_info": {
   "codemirror_mode": {
    "name": "ipython",
    "version": 3
   },
   "file_extension": ".py",
   "mimetype": "text/x-python",
   "name": "python",
   "nbconvert_exporter": "python",
   "pygments_lexer": "ipython3",
   "version": "3.9.6"
  }
 },
 "nbformat": 4,
 "nbformat_minor": 1
}
