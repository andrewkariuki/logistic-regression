{
 "cells": [
  {
   "cell_type": "code",
   "execution_count": 40,
   "id": "77a6c63e",
   "metadata": {},
   "outputs": [],
   "source": [
    "library(randomForest)\n",
    "library(tidyverse)"
   ]
  },
  {
   "cell_type": "code",
   "execution_count": 41,
   "id": "99bf6ba0",
   "metadata": {},
   "outputs": [],
   "source": [
    "require(ISLR)"
   ]
  },
  {
   "cell_type": "code",
   "execution_count": 42,
   "id": "56a7aca7",
   "metadata": {},
   "outputs": [],
   "source": [
    "books <- read.csv(\n",
    "  \"books.csv\",header = TRUE, stringsAsFactors = FALSE\n",
    ")"
   ]
  },
  {
   "cell_type": "code",
   "execution_count": 43,
   "id": "574bfd86",
   "metadata": {},
   "outputs": [
    {
     "data": {
      "text/html": [
       "<style>\n",
       ".list-inline {list-style: none; margin:0; padding: 0}\n",
       ".list-inline>li {display: inline-block}\n",
       ".list-inline>li:not(:last-child)::after {content: \"\\00b7\"; padding: 0 .5ex}\n",
       "</style>\n",
       "<ol class=list-inline><li>'bookID'</li><li>'title'</li><li>'authors'</li><li>'average_rating'</li><li>'isbn'</li><li>'isbn13'</li><li>'language_code'</li><li>'num_pages'</li><li>'ratings_count'</li><li>'text_reviews_count'</li><li>'publication_date'</li><li>'publisher'</li></ol>\n"
      ],
      "text/latex": [
       "\\begin{enumerate*}\n",
       "\\item 'bookID'\n",
       "\\item 'title'\n",
       "\\item 'authors'\n",
       "\\item 'average\\_rating'\n",
       "\\item 'isbn'\n",
       "\\item 'isbn13'\n",
       "\\item 'language\\_code'\n",
       "\\item 'num\\_pages'\n",
       "\\item 'ratings\\_count'\n",
       "\\item 'text\\_reviews\\_count'\n",
       "\\item 'publication\\_date'\n",
       "\\item 'publisher'\n",
       "\\end{enumerate*}\n"
      ],
      "text/markdown": [
       "1. 'bookID'\n",
       "2. 'title'\n",
       "3. 'authors'\n",
       "4. 'average_rating'\n",
       "5. 'isbn'\n",
       "6. 'isbn13'\n",
       "7. 'language_code'\n",
       "8. 'num_pages'\n",
       "9. 'ratings_count'\n",
       "10. 'text_reviews_count'\n",
       "11. 'publication_date'\n",
       "12. 'publisher'\n",
       "\n",
       "\n"
      ],
      "text/plain": [
       " [1] \"bookID\"             \"title\"              \"authors\"           \n",
       " [4] \"average_rating\"     \"isbn\"               \"isbn13\"            \n",
       " [7] \"language_code\"      \"num_pages\"          \"ratings_count\"     \n",
       "[10] \"text_reviews_count\" \"publication_date\"   \"publisher\"         "
      ]
     },
     "metadata": {},
     "output_type": "display_data"
    }
   ],
   "source": [
    "names(books)"
   ]
  },
  {
   "cell_type": "code",
   "execution_count": 44,
   "id": "1bb899a0",
   "metadata": {},
   "outputs": [
    {
     "data": {
      "text/html": [
       "<table class=\"dataframe\">\n",
       "<caption>A data.frame: 6 × 12</caption>\n",
       "<thead>\n",
       "\t<tr><th></th><th scope=col>bookID</th><th scope=col>title</th><th scope=col>authors</th><th scope=col>average_rating</th><th scope=col>isbn</th><th scope=col>isbn13</th><th scope=col>language_code</th><th scope=col>num_pages</th><th scope=col>ratings_count</th><th scope=col>text_reviews_count</th><th scope=col>publication_date</th><th scope=col>publisher</th></tr>\n",
       "\t<tr><th></th><th scope=col>&lt;chr&gt;</th><th scope=col>&lt;chr&gt;</th><th scope=col>&lt;chr&gt;</th><th scope=col>&lt;chr&gt;</th><th scope=col>&lt;chr&gt;</th><th scope=col>&lt;chr&gt;</th><th scope=col>&lt;chr&gt;</th><th scope=col>&lt;chr&gt;</th><th scope=col>&lt;int&gt;</th><th scope=col>&lt;int&gt;</th><th scope=col>&lt;chr&gt;</th><th scope=col>&lt;chr&gt;</th></tr>\n",
       "</thead>\n",
       "<tbody>\n",
       "\t<tr><th scope=row>1</th><td>1</td><td>Harry Potter and the Half-Blood Prince (Harry Potter  #6)                            </td><td>J.K. Rowling/Mary GrandPrÃ©</td><td>4.57</td><td>0439785960</td><td>9780439785969</td><td>eng  </td><td>652 </td><td>2095690</td><td>27591</td><td>9/16/2006</td><td>Scholastic Inc.</td></tr>\n",
       "\t<tr><th scope=row>2</th><td>2</td><td>Harry Potter and the Order of the Phoenix (Harry Potter  #5)                         </td><td>J.K. Rowling/Mary GrandPrÃ©</td><td>4.49</td><td>0439358078</td><td>9780439358071</td><td>eng  </td><td>870 </td><td>2153167</td><td>29221</td><td>9/1/2004 </td><td>Scholastic Inc.</td></tr>\n",
       "\t<tr><th scope=row>3</th><td>4</td><td>Harry Potter and the Chamber of Secrets (Harry Potter  #2)                           </td><td>J.K. Rowling               </td><td>4.42</td><td>0439554896</td><td>9780439554893</td><td>eng  </td><td>352 </td><td>   6333</td><td>  244</td><td>11/1/2003</td><td>Scholastic     </td></tr>\n",
       "\t<tr><th scope=row>4</th><td>5</td><td>Harry Potter and the Prisoner of Azkaban (Harry Potter  #3)                          </td><td>J.K. Rowling/Mary GrandPrÃ©</td><td>4.56</td><td>043965548X</td><td>9780439655484</td><td>eng  </td><td>435 </td><td>2339585</td><td>36325</td><td>5/1/2004 </td><td>Scholastic Inc.</td></tr>\n",
       "\t<tr><th scope=row>5</th><td>8</td><td>Harry Potter Boxed Set  Books 1-5 (Harry Potter  #1-5)                               </td><td>J.K. Rowling/Mary GrandPrÃ©</td><td>4.78</td><td>0439682584</td><td>9780439682589</td><td>eng  </td><td>2690</td><td>  41428</td><td>  164</td><td>9/13/2004</td><td>Scholastic     </td></tr>\n",
       "\t<tr><th scope=row>6</th><td>9</td><td>Unauthorized Harry Potter Book Seven News: Half-Blood Prince Analysis and Speculation</td><td>W. Frederick Zimmerman     </td><td>3.74</td><td>0976540606</td><td>9780976540601</td><td>en-US</td><td>152 </td><td>     19</td><td>    1</td><td>4/26/2005</td><td>Nimble Books   </td></tr>\n",
       "</tbody>\n",
       "</table>\n"
      ],
      "text/latex": [
       "A data.frame: 6 × 12\n",
       "\\begin{tabular}{r|llllllllllll}\n",
       "  & bookID & title & authors & average\\_rating & isbn & isbn13 & language\\_code & num\\_pages & ratings\\_count & text\\_reviews\\_count & publication\\_date & publisher\\\\\n",
       "  & <chr> & <chr> & <chr> & <chr> & <chr> & <chr> & <chr> & <chr> & <int> & <int> & <chr> & <chr>\\\\\n",
       "\\hline\n",
       "\t1 & 1 & Harry Potter and the Half-Blood Prince (Harry Potter  \\#6)                             & J.K. Rowling/Mary GrandPrÃ© & 4.57 & 0439785960 & 9780439785969 & eng   & 652  & 2095690 & 27591 & 9/16/2006 & Scholastic Inc.\\\\\n",
       "\t2 & 2 & Harry Potter and the Order of the Phoenix (Harry Potter  \\#5)                          & J.K. Rowling/Mary GrandPrÃ© & 4.49 & 0439358078 & 9780439358071 & eng   & 870  & 2153167 & 29221 & 9/1/2004  & Scholastic Inc.\\\\\n",
       "\t3 & 4 & Harry Potter and the Chamber of Secrets (Harry Potter  \\#2)                            & J.K. Rowling                & 4.42 & 0439554896 & 9780439554893 & eng   & 352  &    6333 &   244 & 11/1/2003 & Scholastic     \\\\\n",
       "\t4 & 5 & Harry Potter and the Prisoner of Azkaban (Harry Potter  \\#3)                           & J.K. Rowling/Mary GrandPrÃ© & 4.56 & 043965548X & 9780439655484 & eng   & 435  & 2339585 & 36325 & 5/1/2004  & Scholastic Inc.\\\\\n",
       "\t5 & 8 & Harry Potter Boxed Set  Books 1-5 (Harry Potter  \\#1-5)                                & J.K. Rowling/Mary GrandPrÃ© & 4.78 & 0439682584 & 9780439682589 & eng   & 2690 &   41428 &   164 & 9/13/2004 & Scholastic     \\\\\n",
       "\t6 & 9 & Unauthorized Harry Potter Book Seven News: Half-Blood Prince Analysis and Speculation & W. Frederick Zimmerman      & 3.74 & 0976540606 & 9780976540601 & en-US & 152  &      19 &     1 & 4/26/2005 & Nimble Books   \\\\\n",
       "\\end{tabular}\n"
      ],
      "text/markdown": [
       "\n",
       "A data.frame: 6 × 12\n",
       "\n",
       "| <!--/--> | bookID &lt;chr&gt; | title &lt;chr&gt; | authors &lt;chr&gt; | average_rating &lt;chr&gt; | isbn &lt;chr&gt; | isbn13 &lt;chr&gt; | language_code &lt;chr&gt; | num_pages &lt;chr&gt; | ratings_count &lt;int&gt; | text_reviews_count &lt;int&gt; | publication_date &lt;chr&gt; | publisher &lt;chr&gt; |\n",
       "|---|---|---|---|---|---|---|---|---|---|---|---|---|\n",
       "| 1 | 1 | Harry Potter and the Half-Blood Prince (Harry Potter  #6)                             | J.K. Rowling/Mary GrandPrÃ© | 4.57 | 0439785960 | 9780439785969 | eng   | 652  | 2095690 | 27591 | 9/16/2006 | Scholastic Inc. |\n",
       "| 2 | 2 | Harry Potter and the Order of the Phoenix (Harry Potter  #5)                          | J.K. Rowling/Mary GrandPrÃ© | 4.49 | 0439358078 | 9780439358071 | eng   | 870  | 2153167 | 29221 | 9/1/2004  | Scholastic Inc. |\n",
       "| 3 | 4 | Harry Potter and the Chamber of Secrets (Harry Potter  #2)                            | J.K. Rowling                | 4.42 | 0439554896 | 9780439554893 | eng   | 352  |    6333 |   244 | 11/1/2003 | Scholastic      |\n",
       "| 4 | 5 | Harry Potter and the Prisoner of Azkaban (Harry Potter  #3)                           | J.K. Rowling/Mary GrandPrÃ© | 4.56 | 043965548X | 9780439655484 | eng   | 435  | 2339585 | 36325 | 5/1/2004  | Scholastic Inc. |\n",
       "| 5 | 8 | Harry Potter Boxed Set  Books 1-5 (Harry Potter  #1-5)                                | J.K. Rowling/Mary GrandPrÃ© | 4.78 | 0439682584 | 9780439682589 | eng   | 2690 |   41428 |   164 | 9/13/2004 | Scholastic      |\n",
       "| 6 | 9 | Unauthorized Harry Potter Book Seven News: Half-Blood Prince Analysis and Speculation | W. Frederick Zimmerman      | 3.74 | 0976540606 | 9780976540601 | en-US | 152  |      19 |     1 | 4/26/2005 | Nimble Books    |\n",
       "\n"
      ],
      "text/plain": [
       "  bookID\n",
       "1 1     \n",
       "2 2     \n",
       "3 4     \n",
       "4 5     \n",
       "5 8     \n",
       "6 9     \n",
       "  title                                                                                \n",
       "1 Harry Potter and the Half-Blood Prince (Harry Potter  #6)                            \n",
       "2 Harry Potter and the Order of the Phoenix (Harry Potter  #5)                         \n",
       "3 Harry Potter and the Chamber of Secrets (Harry Potter  #2)                           \n",
       "4 Harry Potter and the Prisoner of Azkaban (Harry Potter  #3)                          \n",
       "5 Harry Potter Boxed Set  Books 1-5 (Harry Potter  #1-5)                               \n",
       "6 Unauthorized Harry Potter Book Seven News: Half-Blood Prince Analysis and Speculation\n",
       "  authors                     average_rating isbn       isbn13       \n",
       "1 J.K. Rowling/Mary GrandPrÃ© 4.57           0439785960 9780439785969\n",
       "2 J.K. Rowling/Mary GrandPrÃ© 4.49           0439358078 9780439358071\n",
       "3 J.K. Rowling                4.42           0439554896 9780439554893\n",
       "4 J.K. Rowling/Mary GrandPrÃ© 4.56           043965548X 9780439655484\n",
       "5 J.K. Rowling/Mary GrandPrÃ© 4.78           0439682584 9780439682589\n",
       "6 W. Frederick Zimmerman      3.74           0976540606 9780976540601\n",
       "  language_code num_pages ratings_count text_reviews_count publication_date\n",
       "1 eng           652       2095690       27591              9/16/2006       \n",
       "2 eng           870       2153167       29221              9/1/2004        \n",
       "3 eng           352          6333         244              11/1/2003       \n",
       "4 eng           435       2339585       36325              5/1/2004        \n",
       "5 eng           2690        41428         164              9/13/2004       \n",
       "6 en-US         152            19           1              4/26/2005       \n",
       "  publisher      \n",
       "1 Scholastic Inc.\n",
       "2 Scholastic Inc.\n",
       "3 Scholastic     \n",
       "4 Scholastic Inc.\n",
       "5 Scholastic     \n",
       "6 Nimble Books   "
      ]
     },
     "metadata": {},
     "output_type": "display_data"
    }
   ],
   "source": [
    "head(books)"
   ]
  },
  {
   "cell_type": "code",
   "execution_count": 45,
   "id": "766d8741",
   "metadata": {},
   "outputs": [],
   "source": [
    "myvars <- names(books) %in% c('bookID','title','authors','isbn', 'isbn13','language_code','publication_date','publisher')"
   ]
  },
  {
   "cell_type": "code",
   "execution_count": 46,
   "id": "19901203",
   "metadata": {},
   "outputs": [],
   "source": [
    "new_books <- books[!myvars]"
   ]
  },
  {
   "cell_type": "code",
   "execution_count": 57,
   "id": "a93d24ce",
   "metadata": {},
   "outputs": [
    {
     "data": {
      "text/plain": [
       " average_rating      num_pages         ratings_count     text_reviews_count\n",
       " Length:11131       Length:11131       Min.   :      0   Min.   :    0.0   \n",
       " Class :character   Class :character   1st Qu.:    104   1st Qu.:    9.0   \n",
       " Mode  :character   Mode  :character   Median :    745   Median :   47.0   \n",
       "                                       Mean   :  17936   Mean   :  541.9   \n",
       "                                       3rd Qu.:   4994   3rd Qu.:  237.5   \n",
       "                                       Max.   :4597666   Max.   :94265.0   \n",
       "                                       NA's   :4         NA's   :4         "
      ]
     },
     "metadata": {},
     "output_type": "display_data"
    }
   ],
   "source": [
    "summary(new_books)"
   ]
  },
  {
   "cell_type": "code",
   "execution_count": 58,
   "id": "dd653d27",
   "metadata": {},
   "outputs": [
    {
     "ename": "ERROR",
     "evalue": "Error in as.new_books.frame(sapply(the_books, as.numeric)): could not find function \"as.new_books.frame\"\n",
     "output_type": "error",
     "traceback": [
      "Error in as.new_books.frame(sapply(the_books, as.numeric)): could not find function \"as.new_books.frame\"\nTraceback:\n"
     ]
    }
   ],
   "source": [
    "the_books <- as.new_books.frame(sapply(the_books, as.numeric))"
   ]
  },
  {
   "cell_type": "code",
   "execution_count": 49,
   "id": "4bd909ca",
   "metadata": {},
   "outputs": [
    {
     "data": {
      "text/html": [
       "<table class=\"dataframe\">\n",
       "<caption>A data.frame: 11131 × 2</caption>\n",
       "<thead>\n",
       "\t<tr><th scope=col>ratings_count</th><th scope=col>text_reviews_count</th></tr>\n",
       "\t<tr><th scope=col>&lt;int&gt;</th><th scope=col>&lt;int&gt;</th></tr>\n",
       "</thead>\n",
       "<tbody>\n",
       "\t<tr><td>2095690</td><td>27591</td></tr>\n",
       "\t<tr><td>2153167</td><td>29221</td></tr>\n",
       "\t<tr><td>   6333</td><td>  244</td></tr>\n",
       "\t<tr><td>2339585</td><td>36325</td></tr>\n",
       "\t<tr><td>  41428</td><td>  164</td></tr>\n",
       "\t<tr><td>     19</td><td>    1</td></tr>\n",
       "\t<tr><td>  28242</td><td>  808</td></tr>\n",
       "\t<tr><td>   3628</td><td>  254</td></tr>\n",
       "\t<tr><td> 249558</td><td> 4080</td></tr>\n",
       "\t<tr><td>   4930</td><td>  460</td></tr>\n",
       "\t<tr><td>   1266</td><td>  253</td></tr>\n",
       "\t<tr><td>   2877</td><td>  195</td></tr>\n",
       "\t<tr><td> 248558</td><td> 9396</td></tr>\n",
       "\t<tr><td>   7270</td><td>  499</td></tr>\n",
       "\t<tr><td>   2088</td><td>  131</td></tr>\n",
       "\t<tr><td>  72451</td><td> 4245</td></tr>\n",
       "\t<tr><td>  49240</td><td> 2211</td></tr>\n",
       "\t<tr><td>  45712</td><td> 2257</td></tr>\n",
       "\t<tr><td>  48701</td><td> 2238</td></tr>\n",
       "\t<tr><td>  80609</td><td> 3301</td></tr>\n",
       "\t<tr><td>  28489</td><td> 2085</td></tr>\n",
       "\t<tr><td> 101233</td><td> 1550</td></tr>\n",
       "\t<tr><td>   1710</td><td>   91</td></tr>\n",
       "\t<tr><td>2128944</td><td>13670</td></tr>\n",
       "\t<tr><td>   1618</td><td>  140</td></tr>\n",
       "\t<tr><td>  19822</td><td>   46</td></tr>\n",
       "\t<tr><td>    359</td><td>    6</td></tr>\n",
       "\t<tr><td>   1430</td><td>   59</td></tr>\n",
       "\t<tr><td> 270244</td><td>12017</td></tr>\n",
       "\t<tr><td>     36</td><td>    2</td></tr>\n",
       "\t<tr><td>...</td><td>...</td></tr>\n",
       "\t<tr><td>   80</td><td>  14</td></tr>\n",
       "\t<tr><td>   15</td><td>   2</td></tr>\n",
       "\t<tr><td>   17</td><td>   2</td></tr>\n",
       "\t<tr><td> 3271</td><td> 342</td></tr>\n",
       "\t<tr><td>41236</td><td>1830</td></tr>\n",
       "\t<tr><td>    8</td><td>   2</td></tr>\n",
       "\t<tr><td>   23</td><td>   2</td></tr>\n",
       "\t<tr><td>   14</td><td>   2</td></tr>\n",
       "\t<tr><td>  174</td><td>  20</td></tr>\n",
       "\t<tr><td>   65</td><td>   2</td></tr>\n",
       "\t<tr><td>    7</td><td>   0</td></tr>\n",
       "\t<tr><td>  126</td><td>  10</td></tr>\n",
       "\t<tr><td> 1266</td><td>  90</td></tr>\n",
       "\t<tr><td>  293</td><td>  31</td></tr>\n",
       "\t<tr><td>  162</td><td>  10</td></tr>\n",
       "\t<tr><td>   25</td><td>   4</td></tr>\n",
       "\t<tr><td>   36</td><td>   4</td></tr>\n",
       "\t<tr><td>  186</td><td>  11</td></tr>\n",
       "\t<tr><td>  141</td><td>  10</td></tr>\n",
       "\t<tr><td>  211</td><td>  24</td></tr>\n",
       "\t<tr><td>  207</td><td>  16</td></tr>\n",
       "\t<tr><td>  396</td><td>  37</td></tr>\n",
       "\t<tr><td>  161</td><td>  14</td></tr>\n",
       "\t<tr><td>  215</td><td>  11</td></tr>\n",
       "\t<tr><td>  932</td><td> 111</td></tr>\n",
       "\t<tr><td>  156</td><td>  20</td></tr>\n",
       "\t<tr><td>  783</td><td>  56</td></tr>\n",
       "\t<tr><td>  820</td><td>  95</td></tr>\n",
       "\t<tr><td>  769</td><td> 139</td></tr>\n",
       "\t<tr><td>  113</td><td>  12</td></tr>\n",
       "</tbody>\n",
       "</table>\n"
      ],
      "text/latex": [
       "A data.frame: 11131 × 2\n",
       "\\begin{tabular}{ll}\n",
       " ratings\\_count & text\\_reviews\\_count\\\\\n",
       " <int> & <int>\\\\\n",
       "\\hline\n",
       "\t 2095690 & 27591\\\\\n",
       "\t 2153167 & 29221\\\\\n",
       "\t    6333 &   244\\\\\n",
       "\t 2339585 & 36325\\\\\n",
       "\t   41428 &   164\\\\\n",
       "\t      19 &     1\\\\\n",
       "\t   28242 &   808\\\\\n",
       "\t    3628 &   254\\\\\n",
       "\t  249558 &  4080\\\\\n",
       "\t    4930 &   460\\\\\n",
       "\t    1266 &   253\\\\\n",
       "\t    2877 &   195\\\\\n",
       "\t  248558 &  9396\\\\\n",
       "\t    7270 &   499\\\\\n",
       "\t    2088 &   131\\\\\n",
       "\t   72451 &  4245\\\\\n",
       "\t   49240 &  2211\\\\\n",
       "\t   45712 &  2257\\\\\n",
       "\t   48701 &  2238\\\\\n",
       "\t   80609 &  3301\\\\\n",
       "\t   28489 &  2085\\\\\n",
       "\t  101233 &  1550\\\\\n",
       "\t    1710 &    91\\\\\n",
       "\t 2128944 & 13670\\\\\n",
       "\t    1618 &   140\\\\\n",
       "\t   19822 &    46\\\\\n",
       "\t     359 &     6\\\\\n",
       "\t    1430 &    59\\\\\n",
       "\t  270244 & 12017\\\\\n",
       "\t      36 &     2\\\\\n",
       "\t ... & ...\\\\\n",
       "\t    80 &   14\\\\\n",
       "\t    15 &    2\\\\\n",
       "\t    17 &    2\\\\\n",
       "\t  3271 &  342\\\\\n",
       "\t 41236 & 1830\\\\\n",
       "\t     8 &    2\\\\\n",
       "\t    23 &    2\\\\\n",
       "\t    14 &    2\\\\\n",
       "\t   174 &   20\\\\\n",
       "\t    65 &    2\\\\\n",
       "\t     7 &    0\\\\\n",
       "\t   126 &   10\\\\\n",
       "\t  1266 &   90\\\\\n",
       "\t   293 &   31\\\\\n",
       "\t   162 &   10\\\\\n",
       "\t    25 &    4\\\\\n",
       "\t    36 &    4\\\\\n",
       "\t   186 &   11\\\\\n",
       "\t   141 &   10\\\\\n",
       "\t   211 &   24\\\\\n",
       "\t   207 &   16\\\\\n",
       "\t   396 &   37\\\\\n",
       "\t   161 &   14\\\\\n",
       "\t   215 &   11\\\\\n",
       "\t   932 &  111\\\\\n",
       "\t   156 &   20\\\\\n",
       "\t   783 &   56\\\\\n",
       "\t   820 &   95\\\\\n",
       "\t   769 &  139\\\\\n",
       "\t   113 &   12\\\\\n",
       "\\end{tabular}\n"
      ],
      "text/markdown": [
       "\n",
       "A data.frame: 11131 × 2\n",
       "\n",
       "| ratings_count &lt;int&gt; | text_reviews_count &lt;int&gt; |\n",
       "|---|---|\n",
       "| 2095690 | 27591 |\n",
       "| 2153167 | 29221 |\n",
       "|    6333 |   244 |\n",
       "| 2339585 | 36325 |\n",
       "|   41428 |   164 |\n",
       "|      19 |     1 |\n",
       "|   28242 |   808 |\n",
       "|    3628 |   254 |\n",
       "|  249558 |  4080 |\n",
       "|    4930 |   460 |\n",
       "|    1266 |   253 |\n",
       "|    2877 |   195 |\n",
       "|  248558 |  9396 |\n",
       "|    7270 |   499 |\n",
       "|    2088 |   131 |\n",
       "|   72451 |  4245 |\n",
       "|   49240 |  2211 |\n",
       "|   45712 |  2257 |\n",
       "|   48701 |  2238 |\n",
       "|   80609 |  3301 |\n",
       "|   28489 |  2085 |\n",
       "|  101233 |  1550 |\n",
       "|    1710 |    91 |\n",
       "| 2128944 | 13670 |\n",
       "|    1618 |   140 |\n",
       "|   19822 |    46 |\n",
       "|     359 |     6 |\n",
       "|    1430 |    59 |\n",
       "|  270244 | 12017 |\n",
       "|      36 |     2 |\n",
       "| ... | ... |\n",
       "|    80 |   14 |\n",
       "|    15 |    2 |\n",
       "|    17 |    2 |\n",
       "|  3271 |  342 |\n",
       "| 41236 | 1830 |\n",
       "|     8 |    2 |\n",
       "|    23 |    2 |\n",
       "|    14 |    2 |\n",
       "|   174 |   20 |\n",
       "|    65 |    2 |\n",
       "|     7 |    0 |\n",
       "|   126 |   10 |\n",
       "|  1266 |   90 |\n",
       "|   293 |   31 |\n",
       "|   162 |   10 |\n",
       "|    25 |    4 |\n",
       "|    36 |    4 |\n",
       "|   186 |   11 |\n",
       "|   141 |   10 |\n",
       "|   211 |   24 |\n",
       "|   207 |   16 |\n",
       "|   396 |   37 |\n",
       "|   161 |   14 |\n",
       "|   215 |   11 |\n",
       "|   932 |  111 |\n",
       "|   156 |   20 |\n",
       "|   783 |   56 |\n",
       "|   820 |   95 |\n",
       "|   769 |  139 |\n",
       "|   113 |   12 |\n",
       "\n"
      ],
      "text/plain": [
       "      ratings_count text_reviews_count\n",
       "1     2095690       27591             \n",
       "2     2153167       29221             \n",
       "3        6333         244             \n",
       "4     2339585       36325             \n",
       "5       41428         164             \n",
       "6          19           1             \n",
       "7       28242         808             \n",
       "8        3628         254             \n",
       "9      249558        4080             \n",
       "10       4930         460             \n",
       "11       1266         253             \n",
       "12       2877         195             \n",
       "13     248558        9396             \n",
       "14       7270         499             \n",
       "15       2088         131             \n",
       "16      72451        4245             \n",
       "17      49240        2211             \n",
       "18      45712        2257             \n",
       "19      48701        2238             \n",
       "20      80609        3301             \n",
       "21      28489        2085             \n",
       "22     101233        1550             \n",
       "23       1710          91             \n",
       "24    2128944       13670             \n",
       "25       1618         140             \n",
       "26      19822          46             \n",
       "27        359           6             \n",
       "28       1430          59             \n",
       "29     270244       12017             \n",
       "30         36           2             \n",
       "...   ...           ...               \n",
       "11102    80           14              \n",
       "11103    15            2              \n",
       "11104    17            2              \n",
       "11105  3271          342              \n",
       "11106 41236         1830              \n",
       "11107     8            2              \n",
       "11108    23            2              \n",
       "11109    14            2              \n",
       "11110   174           20              \n",
       "11111    65            2              \n",
       "11112     7            0              \n",
       "11113   126           10              \n",
       "11114  1266           90              \n",
       "11115   293           31              \n",
       "11116   162           10              \n",
       "11117    25            4              \n",
       "11118    36            4              \n",
       "11119   186           11              \n",
       "11120   141           10              \n",
       "11121   211           24              \n",
       "11122   207           16              \n",
       "11123   396           37              \n",
       "11124   161           14              \n",
       "11125   215           11              \n",
       "11126   932          111              \n",
       "11127   156           20              \n",
       "11128   783           56              \n",
       "11129   820           95              \n",
       "11130   769          139              \n",
       "11131   113           12              "
      ]
     },
     "metadata": {},
     "output_type": "display_data"
    }
   ],
   "source": [
    "new_books %>% select_if(is.numeric)"
   ]
  },
  {
   "cell_type": "code",
   "execution_count": 50,
   "id": "42ada387",
   "metadata": {},
   "outputs": [
    {
     "data": {
      "image/png": "[encoded data removed]",
      "text/plain": [
       "Plot with title \"text_reviews_count\""
      ]
     },
     "metadata": {
      "image/png": {
       "height": 420,
       "width": 420
      }
     },
     "output_type": "display_data"
    }
   ],
   "source": [
    "par(mfrow=c(3, 4))\n",
    "for(i in 3:4) {\n",
    "    hist(new_books[,i], main=names(new_books)[i])\n",
    "}"
   ]
  },
  {
   "cell_type": "code",
   "execution_count": null,
   "id": "0ada0bb9",
   "metadata": {},
   "outputs": [],
   "source": []
  },
  {
   "cell_type": "markdown",
   "id": "feebb58a",
   "metadata": {},
   "source": [
    "par(mfrow=c(1,8))\n",
    "for(i in 1:8) {\n",
    "    boxplot(books[,i], main=names(books)[i])\n",
    "}"
   ]
  },
  {
   "cell_type": "code",
   "execution_count": 51,
   "id": "39a95c71",
   "metadata": {},
   "outputs": [],
   "source": [
    "library(Amelia)\n",
    "library(mlbench)"
   ]
  },
  {
   "cell_type": "code",
   "execution_count": 52,
   "id": "9236362d",
   "metadata": {},
   "outputs": [
    {
     "data": {
      "image/png": "[encoded data removed]",
      "text/plain": [
       "Plot with title \"Missingness Map\""
      ]
     },
     "metadata": {
      "image/png": {
       "height": 420,
       "width": 420
      }
     },
     "output_type": "display_data"
    }
   ],
   "source": [
    "missmap(new_books, col=c(\"blue\", \"red\"), legend=FALSE)"
   ]
  },
  {
   "cell_type": "code",
   "execution_count": 53,
   "id": "c12fc12b",
   "metadata": {},
   "outputs": [
    {
     "data": {
      "image/png": "[encoded data removed]",
      "text/plain": [
       "Plot with title \"\""
      ]
     },
     "metadata": {
      "image/png": {
       "height": 420,
       "width": 420
      }
     },
     "output_type": "display_data"
    }
   ],
   "source": [
    "library(corrplot)\n",
    "correlations <- cor(new_books[,3:4])\n",
    "corrplot(correlations, method=\"circle\")"
   ]
  },
  {
   "cell_type": "code",
   "execution_count": 54,
   "id": "28477ebd",
   "metadata": {},
   "outputs": [],
   "source": [
    "library(caret)"
   ]
  },
  {
   "cell_type": "code",
   "execution_count": 55,
   "id": "e485b46f",
   "metadata": {},
   "outputs": [
    {
     "data": {
      "text/plain": [
       "NULL"
      ]
     },
     "metadata": {},
     "output_type": "display_data"
    }
   ],
   "source": [
    "x <- new_books[,3:4]\n",
    "y <- new_books[,1]\n",
    "scales <- list(x=list(relation=\"free\"), y=list(relation=\"free\"))\n",
    "featurePlot(x=x, y=y, plot=\"density\", scales=scales)"
   ]
  },
  {
   "cell_type": "code",
   "execution_count": 56,
   "id": "04b81408",
   "metadata": {},
   "outputs": [],
   "source": [
    "glm.fit <- glm(Direction ~ Lag1 + Lag2 + Lag3 + Lag4 + Lag5 + Volume, data = Smarket, family = binomial)"
   ]
  },
  {
   "cell_type": "code",
   "execution_count": null,
   "id": "b1c7b1ab",
   "metadata": {},
   "outputs": [],
   "source": []
  }
 ],
 "metadata": {
  "kernelspec": {
   "display_name": "R",
   "language": "R",
   "name": "ir"
  },
  "language_info": {
   "codemirror_mode": "r",
   "file_extension": ".r",
   "mimetype": "text/x-r-source",
   "name": "R",
   "pygments_lexer": "r",
   "version": "4.1.0"
  }
 },
 "nbformat": 4,
 "nbformat_minor": 5
}
